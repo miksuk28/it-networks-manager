{
 "cells": [
  {
   "cell_type": "code",
   "execution_count": 20,
   "metadata": {},
   "outputs": [
    {
     "name": "stdout",
     "output_type": "stream",
     "text": [
      "I AM WRAPPER CHungus\n",
      "Hello, World! CHungus\n",
      "AFTER WRAPPER\n"
     ]
    }
   ],
   "source": [
    "def wrapper(func):\n",
    "    def inner(*args, **kwargs):\n",
    "        print(\"I AM WRAPPER\" + kwargs[\"text\"])\n",
    "        func(*args, **kwargs)\n",
    "        print(\"AFTER WRAPPER\")\n",
    "    return inner\n",
    "\n",
    "@wrapper\n",
    "def function(*, text):\n",
    "    print(\"Hello, World!\" + text)\n",
    "\n",
    "function(text=\" CHungus\")"
   ]
  }
 ],
 "metadata": {
  "interpreter": {
   "hash": "916dbcbb3f70747c44a77c7bcd40155683ae19c65e1c03b4aa3499c5328201f1"
  },
  "kernelspec": {
   "display_name": "Python 3.9.7 64-bit",
   "language": "python",
   "name": "python3"
  },
  "language_info": {
   "codemirror_mode": {
    "name": "ipython",
    "version": 3
   },
   "file_extension": ".py",
   "mimetype": "text/x-python",
   "name": "python",
   "nbconvert_exporter": "python",
   "pygments_lexer": "ipython3",
   "version": "3.9.7"
  },
  "orig_nbformat": 4
 },
 "nbformat": 4,
 "nbformat_minor": 2
}
